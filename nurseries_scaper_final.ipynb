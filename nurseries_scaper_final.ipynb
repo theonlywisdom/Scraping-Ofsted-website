{
 "cells": [
  {
   "cell_type": "markdown",
   "metadata": {},
   "source": [
    "# Import modules"
   ]
  },
  {
   "cell_type": "code",
   "execution_count": 1,
   "metadata": {},
   "outputs": [],
   "source": [
    "import requests\n",
    "import pandas as pd\n",
    "import numpy as np\n",
    "#from requests import get\n",
    "from bs4 import BeautifulSoup\n",
    "from selenium import webdriver\n",
    "from time import sleep\n",
    "from random import randint"
   ]
  },
  {
   "cell_type": "markdown",
   "metadata": {},
   "source": [
    "# Initialise storage"
   ]
  },
  {
   "cell_type": "code",
   "execution_count": 2,
   "metadata": {},
   "outputs": [],
   "source": [
    "headers = {'User-Agent': 'Mozilla/5.0 (Windows NT 10.0; Win64; x64) AppleWebKit/537.36 (KHTML, like Gecko) Chrome/85.0.4183.102 Safari/537.36'}\n",
    "Name = []\n",
    "Address = []\n",
    "InfoLink = []\n",
    "Telephone=[]"
   ]
  },
  {
   "cell_type": "markdown",
   "metadata": {},
   "source": [
    "# First loop to get name, address, and details url"
   ]
  },
  {
   "cell_type": "code",
   "execution_count": 3,
   "metadata": {},
   "outputs": [],
   "source": [
    "pages = np.arange(0, 100, 10)\n",
    "for page in pages: \n",
    "\n",
    "  page = requests.get(\"https://reports.ofsted.gov.uk/search?q=&location=&radius=&level_2_types%5B0%5D=6&level_2_types%5B1%5D=7&status%5B0%5D=1&level_1_types=2&start=\" + str(page) + \"&rows=10\", headers=headers)\n",
    "\n",
    "  soup = BeautifulSoup(page.text, 'html.parser')\n",
    "  nursery_li= soup.find_all('li', class_='search-result')\n",
    "    \n",
    "  \n",
    "  sleep(randint(2,10))\n",
    "\n",
    "  for container in nursery_li:\n",
    "        \n",
    "        name = container.find('h3', class_='search-result__title heading--main').text\n",
    "        Name.append(name)\n",
    "\n",
    "        address = container.find('address', class_='search-result__address').text\n",
    "        Address.append(address)\n",
    "        \n",
    "        # get urls\n",
    "        #urls = [item.get(\"href\") for item in soup.find_all(\"a\")]\n",
    "        \n",
    "        nextURL = container.find('a').attrs['href']\n",
    "        nextURL = \"https://reports.ofsted.gov.uk\" + str(container.find('a').attrs['href'])\n",
    "        InfoLink.append(nextURL)\n",
    "    \n"
   ]
  },
  {
   "cell_type": "markdown",
   "metadata": {},
   "source": [
    "# Second loop to get phone numbers which are on the page of the embedded url"
   ]
  },
  {
   "cell_type": "code",
   "execution_count": 4,
   "metadata": {},
   "outputs": [],
   "source": [
    "for i in range(0,100):\n",
    "    url = InfoLink[i]\n",
    "    driver2 = webdriver.Chrome()\n",
    "    driver2.get(url)  \n",
    "    sleep(randint(10,20))\n",
    "    soup = BeautifulSoup(driver2.page_source, 'html.parser')\n",
    "\n",
    "    \n",
    "    my_table2 = soup.find(class_=['info-block__items list-unstyled'])\n",
    "    \n",
    "    \n",
    "    tel=my_table2.find_all(class_='col half')[-1]\n",
    "    \n",
    "\n",
    "\n",
    "    for t in tel:\n",
    "        Telephone.append(t.string.strip())\n"
   ]
  },
  {
   "cell_type": "code",
   "execution_count": 5,
   "metadata": {},
   "outputs": [
    {
     "data": {
      "text/plain": [
       "['01264535053',\n",
       " '01454 862233',\n",
       " '07791051001',\n",
       " '01614421113',\n",
       " '01454 772117',\n",
       " '07799541168',\n",
       " '07712 212070',\n",
       " '07814418478',\n",
       " '07738851790',\n",
       " '07732127731',\n",
       " '07732129842',\n",
       " '07703448566',\n",
       " '07918187430',\n",
       " '07732133378',\n",
       " '07716756152',\n",
       " '0208 549 9995',\n",
       " '0207 974 7038',\n",
       " '02036673327',\n",
       " '0207635 6408',\n",
       " '01536 264566',\n",
       " '01704893279',\n",
       " '01634382330',\n",
       " '01634 578697',\n",
       " '02077408070',\n",
       " '0203 841 9000',\n",
       " '0207 7408070',\n",
       " '02036673277',\n",
       " '02085098372',\n",
       " '0151 922 6594',\n",
       " '01519441345',\n",
       " '02085933063',\n",
       " '07968238922',\n",
       " '07946246022',\n",
       " '02036673277',\n",
       " '02083854390',\n",
       " '07905055967',\n",
       " '07939244564',\n",
       " '01772780809',\n",
       " '01254681899',\n",
       " '03330 432222',\n",
       " '01582455105',\n",
       " '07849 097247',\n",
       " '07842088646',\n",
       " '02086850673',\n",
       " '0191 447 7877',\n",
       " '0191 4873297',\n",
       " '0191 4111300',\n",
       " '07772585191',\n",
       " '01422 835658',\n",
       " '020 75869871',\n",
       " '0117 9863290',\n",
       " '07944 220 280',\n",
       " '01932 569326',\n",
       " '02084442950',\n",
       " '02084440684',\n",
       " '01252 918888',\n",
       " '01252 918888',\n",
       " '01252 918888',\n",
       " '01604587302',\n",
       " '020 8677 7088',\n",
       " '02082659926',\n",
       " '07961853822',\n",
       " '07769293757',\n",
       " '01925555567',\n",
       " '07799 781804',\n",
       " '01925 555567',\n",
       " '01925555567',\n",
       " '07918174335',\n",
       " '07365526220',\n",
       " '07365526220',\n",
       " '07365526220',\n",
       " '07365526220',\n",
       " '07365526220',\n",
       " '01635269678',\n",
       " '01895 678594',\n",
       " '07900 496126',\n",
       " '07864501679',\n",
       " '07595539028',\n",
       " '07825 630 751',\n",
       " '07825630751',\n",
       " '07825630751',\n",
       " '01242 244387',\n",
       " '01613011412',\n",
       " '0161 230 1420',\n",
       " '07761083701',\n",
       " '07761083701',\n",
       " '0142202498',\n",
       " '07793583111',\n",
       " '07918083002',\n",
       " '07973751136',\n",
       " '0121 448 3181',\n",
       " '01214480830',\n",
       " '0207 237 2376',\n",
       " '0113 2581666',\n",
       " '01132581666',\n",
       " '0207 731 9670',\n",
       " '0113 2757698',\n",
       " '02084519605',\n",
       " '020 8847 2547',\n",
       " '0121 429 4112']"
      ]
     },
     "execution_count": 5,
     "metadata": {},
     "output_type": "execute_result"
    }
   ],
   "source": [
    "Telephone"
   ]
  },
  {
   "cell_type": "code",
   "execution_count": 6,
   "metadata": {},
   "outputs": [],
   "source": [
    "nurseries = pd.DataFrame({\n",
    "'Nurseries': Name,\n",
    "'Addresses': Address,\n",
    "#'Links': InfoLink,\n",
    "'Contact': Telephone,    \n",
    "})"
   ]
  },
  {
   "cell_type": "markdown",
   "metadata": {},
   "source": [
    "# Remove spaces in phone numbers"
   ]
  },
  {
   "cell_type": "code",
   "execution_count": 7,
   "metadata": {},
   "outputs": [],
   "source": [
    "nurseries['Contact'] = nurseries['Contact'].apply(lambda x: x.replace(' ', '') if ' ' in str(x) else x)"
   ]
  },
  {
   "cell_type": "code",
   "execution_count": 8,
   "metadata": {},
   "outputs": [
    {
     "data": {
      "text/plain": [
       "0     01264535053\n",
       "1     01454862233\n",
       "2     07791051001\n",
       "3     01614421113\n",
       "4     01454772117\n",
       "         ...     \n",
       "95    02077319670\n",
       "96    01132757698\n",
       "97    02084519605\n",
       "98    02088472547\n",
       "99    01214294112\n",
       "Name: Contact, Length: 100, dtype: object"
      ]
     },
     "execution_count": 8,
     "metadata": {},
     "output_type": "execute_result"
    }
   ],
   "source": [
    "nurseries['Contact']"
   ]
  },
  {
   "cell_type": "markdown",
   "metadata": {},
   "source": [
    "# Print"
   ]
  },
  {
   "cell_type": "code",
   "execution_count": 9,
   "metadata": {},
   "outputs": [
    {
     "name": "stdout",
     "output_type": "stream",
     "text": [
      "                                       Nurseries  \\\n",
      "0                   'Andover Kumon Study Centre'   \n",
      "1                  'The Zone' Out Of School Club   \n",
      "2          (K.A.O.S.) Upminster Methodist Church   \n",
      "3                              0-2-5 Nursery LTD   \n",
      "4                      100 Acre Wood Day Nursery   \n",
      "..                                           ...   \n",
      "95  57 Filmer Road,Private Nursery and Preschool   \n",
      "96                         79 2 81 Childcare Ltd   \n",
      "97                        8 till 6 Eagle Nursery   \n",
      "98                              9 Months Nursery   \n",
      "99            A B C Day Nursery & Pre School Ltd   \n",
      "\n",
      "                                            Addresses      Contact  \n",
      "0   Unit 23-24 Walworth Enterprise Centre, West Wa...  01264535053  \n",
      "1   St Barnabas C Of E Primary School, Poplar Clos...  01454862233  \n",
      "2   Wesleyan Methodist Church, Hall Lane, UPMINSTE...  07791051001  \n",
      "3    22 Thornfield Road, STOCKPORT, Cheshire, SK4 3JT  01614421113  \n",
      "4   149 Church Road, Frampton Cotterell, BRISTOL, ...  01454772117  \n",
      "..                                                ...          ...  \n",
      "95                   57, Filmer Road, LONDON, SW6 7JF  02077319670  \n",
      "96                  81 Stonegate Road, Leeds, LS6 4HZ  01132757698  \n",
      "97  Woodheyes Hall, 32 Woodheyes Road, LONDON, NW1...  02084519605  \n",
      "98       30a The Grove, ISLEWORTH, Middlesex, TW7 4JU  02088472547  \n",
      "99  14 Wigorn Road, Smethwick, West Midlands, B67 5HN  01214294112  \n",
      "\n",
      "[100 rows x 3 columns]\n",
      "Nurseries    object\n",
      "Addresses    object\n",
      "Contact      object\n",
      "dtype: object\n",
      "Nurseries    0\n",
      "Addresses    0\n",
      "Contact      0\n",
      "dtype: int64\n"
     ]
    }
   ],
   "source": [
    "# to see your dataframe\n",
    "print(nurseries)\n",
    "\n",
    "# to see the datatypes of your columns\n",
    "print(nurseries.dtypes)\n",
    "\n",
    "# to see where you're missing data and how much data is missing \n",
    "print(nurseries.isnull().sum())\n",
    "\n",
    "# to move all your scraped data to a CSV file\n",
    "nurseries.to_csv('nurseries.csv')"
   ]
  }
 ],
 "metadata": {
  "kernelspec": {
   "display_name": "Python 3",
   "language": "python",
   "name": "python3"
  },
  "language_info": {
   "codemirror_mode": {
    "name": "ipython",
    "version": 3
   },
   "file_extension": ".py",
   "mimetype": "text/x-python",
   "name": "python",
   "nbconvert_exporter": "python",
   "pygments_lexer": "ipython3",
   "version": "3.8.5"
  }
 },
 "nbformat": 4,
 "nbformat_minor": 4
}
